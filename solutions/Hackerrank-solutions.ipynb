{
 "cells": [
  {
   "cell_type": "markdown",
   "metadata": {},
   "source": [
    "## 1. Occupations\n",
    "Pivot the `Occupation` column in `OCCUPATIONS` so that each `Name` is sorted alphabetically and displayed underneath its corresponding `Occupation`. The output column headers should be `Doctor`, `Professor`, `Singer`, and `Actor`, respectively.\n",
    "\n",
    "Note: Print `NULL` when there are no more names corresponding to an occupation.\n",
    "\n",
    "<strong>Input Format</strong>\n",
    "\n",
    "The `OCCUPATIONS` table is described as follows:\n",
    "![img](Occupations.png)\n",
    "Occupation will only contain one of the following values: Doctor, Professor, Singer or Actor.\n",
    "\n",
    "<strong>Sample Input</strong>\n",
    "![img](Occupations1.png)\n",
    "<strong>Sample Output</strong>\n",
    "![img](Occupations2.png)\n",
    "\n",
    "<strong>Explanation</strong>\n",
    "\n",
    "The first column is an alphabetically ordered list of Doctor names.\n",
    "The second column is an alphabetically ordered list of Professor names.\n",
    "The third column is an alphabetically ordered list of Singer names.\n",
    "The fourth column is an alphabetically ordered list of Actor names.\n",
    "The empty cell data for columns with less than the maximum number of names per `occupation` (in this case, the `Professor` and `Actor` columns) are filled with `NULL` values."
   ]
  },
  {
   "cell_type": "markdown",
   "metadata": {},
   "source": [
    "## Answer\n",
    "`-- Instantiate variables to count the rows\n",
    "set @r1=0, @r2=0, @r3=0, @r4=0;\n",
    "-- Group by RowNum column\n",
    "select max(Doctor), max(Professor), max(Singer), max(Actor)\n",
    "from (\n",
    "    -- Create a row to tally names whenever they appear for a given Occupation\n",
    "    select case when Occupation = 'Doctor' then (@r1:=@r1+1)\n",
    "            when Occupation = 'Professor' then (@r2:=@r2+1)\n",
    "            when Occupation = 'Singer' then (@r3:=@r3+1)\n",
    "            when Occupation = 'Actor' then (@r4:=@r4+1) end as RowNum,\n",
    "        -- Select all the columns separtely according to different Occupations\n",
    "        case when Occupation = 'Doctor' then Name end as Doctor,\n",
    "        case when Occupation = 'Professor' then Name end as Professor,\n",
    "        case when Occupation = 'Singer' then Name end as Singer,\n",
    "        case when Occupation = 'Actor' then Name end as Actor\n",
    "    from occupations\n",
    "    -- Order Alphabetically\n",
    "    Order by Name\n",
    ") as Temp\n",
    "-- Group by RowNum Column\n",
    "group by RowNum;`\n",
    "\n",
    "<strong>Output</strong>\n",
    "![img](Occupations3.png)"
   ]
  },
  {
   "cell_type": "markdown",
   "metadata": {},
   "source": [
    "-----"
   ]
  },
  {
   "cell_type": "markdown",
   "metadata": {},
   "source": [
    "## 2. Binary Tree Nodes\n",
    "You are given a table, BST, containing two columns: `N` and `P`, where `N` represents the value of a node in Binary Tree, and `P` is the parent of `N`.\n",
    "![img](tree.png)\n",
    "\n",
    "Write a query to find the node type of Binary Tree ordered by the value of the node. Output one of the following for each node:\n",
    "\n",
    "-Root: If node is root node.\n",
    "-Leaf: If node is leaf node.\n",
    "-Inner: If node is neither root nor leaf node.\n",
    "<strong>Sample Input</strong>\n",
    "![img](tree1.png)\n",
    "\n",
    "<strong>Sample Output</strong>\n",
    "\n",
    "`1 Leaf\n",
    "2 Inner\n",
    "3 Leaf\n",
    "5 Root\n",
    "6 Leaf\n",
    "8 Inner\n",
    "9 Leaf`\n",
    "\n",
    "<strong>Explanation</strong>\n",
    "\n",
    "The Binary Tree below illustrates the sample:\n",
    "![img](tree2.png)"
   ]
  },
  {
   "cell_type": "markdown",
   "metadata": {},
   "source": [
    "## Answer\n",
    "`select N,\n",
    "(case \n",
    "    -- Condition for Root\n",
    "    when P is null then 'Root'\n",
    "    -- Condition for Inner\n",
    "    when N in (select p from bst) then 'Inner'\n",
    "    -- Else Leaf\n",
    "    else 'Leaf'\n",
    "    end)\n",
    "from bst\n",
    "order by n asc;`\n",
    "\n",
    "<strong>Output</strong>\n",
    "![img](trees3.png)"
   ]
  }
 ],
 "metadata": {
  "kernelspec": {
   "display_name": "Python 3",
   "language": "python",
   "name": "python3"
  },
  "language_info": {
   "codemirror_mode": {
    "name": "ipython",
    "version": 3
   },
   "file_extension": ".py",
   "mimetype": "text/x-python",
   "name": "python",
   "nbconvert_exporter": "python",
   "pygments_lexer": "ipython3",
   "version": "3.7.1"
  }
 },
 "nbformat": 4,
 "nbformat_minor": 2
}
